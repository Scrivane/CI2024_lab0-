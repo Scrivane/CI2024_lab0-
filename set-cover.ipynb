{
 "cells": [
  {
   "cell_type": "markdown",
   "metadata": {},
   "source": [
    "Copyright **`(c)`** 2024 Giovanni Squillero `<giovanni.squillero@polito.it>`  \n",
    "[`https://github.com/squillero/computational-intelligence`](https://github.com/squillero/computational-intelligence)  \n",
    "Free for personal or classroom use; see [`LICENSE.md`](https://github.com/squillero/computational-intelligence/blob/master/LICENSE.md) for details.  "
   ]
  },
  {
   "cell_type": "markdown",
   "metadata": {},
   "source": [
    "# Set Cover problem\n",
    "\n",
    "See: https://en.wikipedia.org/wiki/Set_cover_problem"
   ]
  },
  {
   "cell_type": "code",
   "execution_count": 130,
   "metadata": {},
   "outputs": [],
   "source": [
    "from random import random, seed\n",
    "from itertools import product\n",
    "import numpy as np\n",
    "import timeit\n",
    "from typing import Tuple\n",
    "from icecream import ic\n",
    "from tqdm.auto import tqdm\n",
    "from matplotlib import pyplot as plt\n",
    "from itertools import accumulate\n",
    "from itertools import compress"
   ]
  },
  {
   "cell_type": "markdown",
   "metadata": {},
   "source": [
    "## Reproducible Initialization\n",
    "\n",
    "If you want to get reproducible results, use `rng` (and restart the kernel); for non-reproducible ones, use `np.random`."
   ]
  },
  {
   "cell_type": "code",
   "execution_count": 131,
   "metadata": {},
   "outputs": [],
   "source": [
    "UNIVERSE_SIZE = 10000\n",
    "NUM_SETS = 1000\n",
    "\n",
    "DENSITY = 0.2\n",
    "listTest=[(100,10,0.2),(1000,100,0.2),(10000,1000,0.2),(100000,10000,0.2),(100000,10000,0.1),(100000,10000,0.3)]\n",
    "rng = np.random.Generator(np.random.PCG64([UNIVERSE_SIZE, NUM_SETS, int(10_000 * DENSITY)]))"
   ]
  },
  {
   "cell_type": "code",
   "execution_count": 132,
   "metadata": {},
   "outputs": [],
   "source": [
    "# DON'T EDIT THESE LINES!\n",
    "\n",
    "SETS = np.random.random((NUM_SETS, UNIVERSE_SIZE)) < DENSITY\n",
    "for s in range(UNIVERSE_SIZE):\n",
    "    if not np.any(SETS[:, s]):\n",
    "        SETS[np.random.randint(NUM_SETS), s] = True\n",
    "COSTS = np.pow(SETS.sum(axis=1), 1.1)\n"
   ]
  },
  {
   "cell_type": "code",
   "execution_count": 133,
   "metadata": {},
   "outputs": [],
   "source": [
    "mincost=min(COSTS)"
   ]
  },
  {
   "cell_type": "markdown",
   "metadata": {},
   "source": [
    "## Helper Functions"
   ]
  },
  {
   "cell_type": "code",
   "execution_count": 134,
   "metadata": {},
   "outputs": [],
   "source": [
    "def valid(solution):\n",
    "    \"\"\"Checks wether solution is valid (ie. covers all universe)\"\"\"\n",
    "    return np.all(np.logical_or.reduce(SETS[solution]))\n",
    "\n",
    "\n",
    "def valid2(solution):   #faster valid implentation\n",
    "    \"\"\"Checks whether solution is valid (i.e., covers all universe)\"\"\"\n",
    "    \n",
    "    covered_universe = np.zeros(SETS.shape[1], dtype=bool)\n",
    "\n",
    "    \n",
    "    for i in np.where(solution)[0]:  # Only loop through 'True' elements of thee solution\n",
    "        covered_universe |= SETS[i]   #sets element of the covered universe to true if they are taken in the solution \n",
    "        # Exit early if the solution is fully covers the universe , no need to check the rest of the solution if the universe is already covered \n",
    "        if np.all(covered_universe):  \n",
    "            return True\n",
    "    \n",
    "    # Check if universe is fully covered at the end\n",
    "    return np.all(covered_universe)\n",
    "\n",
    "def cost(solution):\n",
    "    \"\"\"Returns the cost of a solution (to be minimized)\"\"\"\n",
    "    return COSTS[solution].sum()\n",
    "\n"
   ]
  },
  {
   "cell_type": "code",
   "execution_count": 135,
   "metadata": {},
   "outputs": [
    {
     "data": {
      "text/plain": [
       "1000"
      ]
     },
     "execution_count": 135,
     "metadata": {},
     "output_type": "execute_result"
    }
   ],
   "source": [
    "len(SETS)"
   ]
  },
  {
   "cell_type": "markdown",
   "metadata": {},
   "source": [
    "## Have Fun!"
   ]
  },
  {
   "cell_type": "code",
   "execution_count": 136,
   "metadata": {},
   "outputs": [
    {
     "name": "stderr",
     "output_type": "stream",
     "text": [
      "ic| t1: 0.003824815999905695\n"
     ]
    },
    {
     "data": {
      "text/plain": [
       "0.003824815999905695"
      ]
     },
     "execution_count": 136,
     "metadata": {},
     "output_type": "execute_result"
    }
   ],
   "source": [
    "# A dumb solution of \"all\" sets\n",
    "# A dumb solution of \"all\" sets\n",
    "solution = np.full(NUM_SETS, True)\n",
    "\n",
    "t1 = timeit.timeit(lambda: cost(solution), number=100)\n",
    "ic(t1)\n"
   ]
  },
  {
   "cell_type": "code",
   "execution_count": 137,
   "metadata": {},
   "outputs": [
    {
     "name": "stderr",
     "output_type": "stream",
     "text": [
      "ic| solution: array([ True,  True,  True,  True, False, False,  True,  True, False,\n",
      "                      True,  True,  True, False,  True,  True,  True, False, False,\n",
      "                     False, False,  True, False, False,  True,  True,  True,  True,\n",
      "                      True, False,  True, False,  True, False,  True,  True, False,\n",
      "                      True, False, False, False,  True, False,  True, False, False,\n",
      "                     False,  True, False, False,  True,  True, False, False,  True,\n",
      "                      True, False,  True,  True, False, False, False, False,  True,\n",
      "                     False,  True, False, False, False, False,  True, False, False,\n",
      "                      True, False, False,  True,  True,  True, False,  True,  True,\n",
      "                     False, False,  True,  True, False,  True,  True,  True, False,\n",
      "                      True, False,  True,  True,  True, False, False, False, False,\n",
      "                      True,  True, False, False, False, False,  True,  True, False,\n",
      "                     False, False, False,  True, False,  True, False,  True,  True,\n",
      "                     False,  True,  True, False, False, False, False,  True,  True,\n",
      "                      True,  True, False,  True,  True,  True,  True,  True, False,\n",
      "                      True,  True,  True, False,  True, False, False, False,  True,\n",
      "                     False,  True,  True, False,  True,  True,  True,  True, False,\n",
      "                     False, False,  True,  True, False,  True, False,  True,  True,\n",
      "                      True, False, False, False,  True, False,  True,  True, False,\n",
      "                     False,  True,  True,  True,  True, False,  True,  True,  True,\n",
      "                     False, False,  True,  True,  True,  True, False, False,  True,\n",
      "                      True,  True,  True, False,  True,  True,  True,  True,  True,\n",
      "                     False,  True,  True, False, False, False, False, False, False,\n",
      "                     False, False, False, False,  True, False, False, False,  True,\n",
      "                      True, False, False,  True,  True, False,  True, False,  True,\n",
      "                     False,  True, False,  True, False, False,  True,  True,  True,\n",
      "                      True,  True,  True,  True,  True,  True,  True,  True,  True,\n",
      "                     False,  True,  True,  True, False,  True,  True,  True, False,\n",
      "                     False, False,  True,  True,  True, False, False, False,  True,\n",
      "                      True, False,  True, False,  True,  True, False, False, False,\n",
      "                      True, False, False,  True, False, False,  True,  True, False,\n",
      "                      True,  True,  True, False, False,  True, False,  True,  True,\n",
      "                     False,  True, False, False,  True,  True, False,  True, False,\n",
      "                     False,  True,  True, False,  True, False, False, False, False,\n",
      "                     False,  True,  True, False, False, False, False,  True,  True,\n",
      "                      True, False, False,  True,  True,  True, False, False,  True,\n",
      "                      True, False,  True,  True, False,  True, False, False, False,\n",
      "                      True,  True,  True,  True, False,  True,  True,  True, False,\n",
      "                      True,  True, False, False,  True,  True, False, False,  True,\n",
      "                     False, False,  True,  True, False, False, False,  True, False,\n",
      "                     False, False,  True, False, False,  True, False,  True,  True,\n",
      "                     False,  True,  True, False,  True, False,  True,  True, False,\n",
      "                      True,  True, False, False, False, False,  True, False, False,\n",
      "                     False, False, False, False,  True,  True, False, False, False,\n",
      "                      True, False,  True, False, False, False,  True, False,  True,\n",
      "                     False,  True,  True, False, False, False,  True,  True, False,\n",
      "                     False, False,  True, False,  True, False, False,  True, False,\n",
      "                     False,  True, False, False, False,  True,  True, False, False,\n",
      "                      True,  True, False, False, False, False,  True, False,  True,\n",
      "                      True,  True, False, False, False, False, False, False,  True,\n",
      "                     False, False,  True, False,  True,  True,  True, False,  True,\n",
      "                      True,  True,  True,  True,  True, False,  True, False, False,\n",
      "                      True, False, False,  True,  True, False,  True, False,  True,\n",
      "                     False, False,  True, False, False, False, False,  True, False,\n",
      "                      True,  True,  True,  True,  True,  True, False,  True, False,\n",
      "                     False,  True, False,  True,  True,  True, False, False,  True,\n",
      "                      True,  True,  True, False, False, False,  True,  True,  True,\n",
      "                      True, False, False,  True, False,  True, False,  True, False,\n",
      "                     False, False, False, False, False, False, False,  True,  True,\n",
      "                     False, False,  True, False, False, False, False, False,  True,\n",
      "                     False,  True, False, False,  True, False,  True, False,  True,\n",
      "                     False, False,  True,  True,  True, False, False,  True, False,\n",
      "                      True, False, False,  True, False,  True, False, False, False,\n",
      "                     False, False, False, False, False,  True,  True,  True, False,\n",
      "                     False, False, False,  True, False, False, False,  True, False,\n",
      "                     False,  True, False,  True, False, False,  True, False, False,\n",
      "                     False,  True, False,  True, False,  True, False,  True,  True,\n",
      "                     False,  True, False,  True, False,  True,  True, False, False,\n",
      "                     False,  True,  True,  True,  True,  True,  True, False, False,\n",
      "                      True,  True,  True,  True,  True, False, False,  True,  True,\n",
      "                      True,  True,  True,  True, False, False, False, False, False,\n",
      "                      True,  True,  True,  True,  True,  True,  True,  True,  True,\n",
      "                      True,  True, False, False, False,  True,  True, False,  True,\n",
      "                     False, False, False,  True,  True,  True, False, False, False,\n",
      "                     False,  True,  True, False, False,  True,  True, False, False,\n",
      "                     False, False, False,  True,  True, False,  True, False,  True,\n",
      "                     False, False, False, False, False,  True,  True,  True, False,\n",
      "                      True, False,  True, False, False,  True,  True, False,  True,\n",
      "                      True,  True,  True, False,  True, False,  True, False,  True,\n",
      "                      True,  True, False,  True, False,  True, False,  True,  True,\n",
      "                      True,  True, False,  True,  True, False,  True,  True, False,\n",
      "                     False,  True,  True, False, False, False,  True, False, False,\n",
      "                     False, False, False, False, False, False,  True,  True,  True,\n",
      "                      True, False, False, False, False,  True, False, False, False,\n",
      "                      True, False, False, False,  True,  True, False,  True,  True,\n",
      "                      True,  True,  True, False, False,  True, False,  True,  True,\n",
      "                      True, False, False, False,  True,  True, False,  True,  True,\n",
      "                      True,  True, False, False, False,  True,  True, False, False,\n",
      "                      True,  True, False,  True, False,  True,  True,  True,  True,\n",
      "                      True,  True,  True,  True,  True, False, False,  True, False,\n",
      "                      True,  True, False,  True,  True, False, False,  True, False,\n",
      "                     False,  True,  True,  True, False, False, False, False,  True,\n",
      "                      True,  True, False,  True, False, False, False, False, False,\n",
      "                      True, False,  True,  True,  True,  True,  True, False,  True,\n",
      "                      True,  True,  True, False, False, False, False, False, False,\n",
      "                      True, False, False, False, False,  True, False, False, False,\n",
      "                     False,  True,  True, False,  True, False,  True, False,  True,\n",
      "                     False, False, False, False, False, False, False, False, False,\n",
      "                      True,  True,  True,  True,  True,  True, False,  True,  True,\n",
      "                      True, False, False, False,  True, False, False,  True, False,\n",
      "                     False,  True,  True, False, False, False,  True,  True,  True,\n",
      "                      True, False, False,  True,  True, False,  True,  True, False,\n",
      "                      True,  True,  True,  True,  True,  True, False, False, False,\n",
      "                     False,  True,  True, False, False, False, False,  True,  True,\n",
      "                     False, False,  True, False,  True, False,  True,  True,  True,\n",
      "                      True, False,  True,  True,  True,  True,  True, False,  True,\n",
      "                      True,  True, False,  True, False, False,  True, False, False,\n",
      "                      True, False, False,  True, False, False,  True, False, False,\n",
      "                      True,  True,  True, False,  True,  True, False, False,  True,\n",
      "                     False,  True, False, False, False, False, False,  True,  True,\n",
      "                     False,  True, False, False, False,  True,  True,  True,  True,\n",
      "                     False])\n",
      "    len(solution): 1000\n"
     ]
    },
    {
     "data": {
      "text/plain": [
       "(np.True_, np.float64(2137332.7742536184))"
      ]
     },
     "execution_count": 137,
     "metadata": {},
     "output_type": "execute_result"
    }
   ],
   "source": [
    "# A random solution with random 50% of the sets\n",
    "solution = rng.random(NUM_SETS) < .5\n",
    "ic(solution,len(solution))\n",
    "valid(solution), cost(solution)"
   ]
  },
  {
   "cell_type": "code",
   "execution_count": 138,
   "metadata": {},
   "outputs": [],
   "source": [
    "def fitness(solution : np.array)-> int:\n",
    "    costo=-cost(solution)\n",
    "\n",
    "    \n",
    "    return costo\n",
    "\n",
    "def fitness2(solution : np.array)-> Tuple[bool,int]:  #returns also if a solution is valid\n",
    "    costo=-cost(solution)\n",
    " \n",
    "    validity=False\n",
    "    if valid2(solution):\n",
    "       \n",
    "       \n",
    "       validity=True\n",
    "     \n",
    "        \n",
    "    \n",
    "    return (validity,costo)"
   ]
  },
  {
   "cell_type": "markdown",
   "metadata": {},
   "source": [
    "tweak :Simple tweak only swap a random value of the solution , results aren't great "
   ]
  },
  {
   "cell_type": "code",
   "execution_count": 139,
   "metadata": {},
   "outputs": [],
   "source": [
    "\n",
    "\n",
    "\n",
    "def tweak(solution : np.array)-> np.array:    \n",
    "    new_solution = solution.copy()\n",
    "    pos = rng.integers(0,NUM_SETS)\n",
    "    \n",
    "    \n",
    "    new_solution[pos] = not new_solution[pos]\n",
    "    return new_solution"
   ]
  },
  {
   "cell_type": "markdown",
   "metadata": {},
   "source": [
    "tweak3 : it flips multiple elemts in the solution . If i just started exploring it changes a lot of elemnts , if i already explored enough it changes only few elements. Works well if i increse number of steps, getting better results but it takes more time then my main solution (tweak5 + tweak 6)"
   ]
  },
  {
   "cell_type": "code",
   "execution_count": 140,
   "metadata": {},
   "outputs": [],
   "source": [
    "def tweak3(solution : np.array,step: int,max_step :int)-> np.array:\n",
    "\n",
    "    size_change=(20*(max_step -step))//max_step\n",
    "    \n",
    "    new_solution = solution.copy()\n",
    "    \n",
    "    rints = rng.integers(low=0, high=NUM_SETS, size=size_change)\n",
    "    for el in rints:\n",
    "        new_solution[el] = not new_solution[el]\n",
    "\n",
    "    \n",
    "    \n",
    "    \n",
    "    \n",
    "    return new_solution\n",
    "\n",
    "\n",
    "\n",
    "\n",
    "\n",
    "\n",
    "\n"
   ]
  },
  {
   "cell_type": "markdown",
   "metadata": {},
   "source": [
    "tweak4 : checks if the current solution is alredy valid , if it's valid and i'm near the end , i try to flip an element( small step) and see if the solution get better , if it's valid and i'm not near the end i try to flip elemt from true to false to decreadse the cost ( i don't do it near the end or i risk getting an invalid solution ). If the current solution is not valid , i try to flip some elements , results are similar to tweak3"
   ]
  },
  {
   "cell_type": "code",
   "execution_count": 141,
   "metadata": {},
   "outputs": [],
   "source": [
    "def tweak4(solution : np.array,step: int,max_step :int,)-> np.array:\n",
    "\n",
    "    size_change=(20*(max_step -step))//max_step\n",
    "    \n",
    "    new_solution = solution.copy()\n",
    "    \n",
    "    if valid2(new_solution):\n",
    "        if ((max_step -step)/max_step)<0.05 :\n",
    "            \n",
    "            rints = rng.integers(low=0, high=NUM_SETS, size=size_change)\n",
    "            for el in rints:\n",
    "                    new_solution[el] = not new_solution[el]\n",
    "        \n",
    "\n",
    "        else:\n",
    "            index_true= np.where(new_solution == True)[0]\n",
    "            rints = rng.choice(index_true, size=size_change, replace=False)\n",
    "            for el in rints:\n",
    "                new_solution[el] = False\n",
    "    \n",
    "    else:\n",
    "         rints = rng.integers(low=0, high=NUM_SETS, size=size_change)\n",
    "         for el in rints:\n",
    "                new_solution[el] = not new_solution[el]\n",
    "\n",
    "\n",
    "    \n",
    "    \n",
    "    \n",
    "    \n",
    "    return new_solution\n",
    "\n"
   ]
  },
  {
   "cell_type": "markdown",
   "metadata": {},
   "source": [
    "tweak 5  : i change a n(size_change) values of the solution, if the solution was already valid i flip n values from true to false , otherwise i flip them from false to true. If there aren't enough elemnt to change n elemnts , i change max 20% of them . Using this tweak i need around 1/100 of the step of tweak 4 to get a bit worse(20%) result then tweak4"
   ]
  },
  {
   "cell_type": "code",
   "execution_count": 142,
   "metadata": {},
   "outputs": [],
   "source": [
    "\n",
    "\n",
    "\n",
    "def tweak5(solution : np.array,step: int,max_step :int,)-> np.array:\n",
    "\n",
    "    size_change = int(np.log10(UNIVERSE_SIZE)) * 2*(max_step - step) // max_step    \n",
    "    new_solution = solution.copy()\n",
    "    \n",
    "    if valid2(new_solution):\n",
    "        \n",
    "            index_true=np.where(new_solution==True)[0]\n",
    "            if( size_change>len(index_true)):\n",
    "                size_change=len(index_true)*20//100\n",
    "            rints = rng.choice(index_true, size=size_change, replace=False)\n",
    "\n",
    "            new_solution[rints] = False\n",
    "    \n",
    "    else:\n",
    "         \n",
    "\n",
    "            index_true=np.where(new_solution==False)[0]\n",
    "            if( size_change>len(index_true)):\n",
    "                size_change=len(index_true)*20//100\n",
    "            rints = rng.choice(index_true, size=size_change, replace=False)\n",
    "        \n",
    "            new_solution[rints] = True\n",
    "\n",
    "    return new_solution\n",
    "\n",
    "\n",
    "\n",
    "\n",
    "\n"
   ]
  },
  {
   "cell_type": "markdown",
   "metadata": {},
   "source": [
    "tweak 6 : It changes 70% of true elements in false  and 20% of false elements into true. It's useful to better explore the solution space when it get stuck in a mesa. Used combined with tweak 5 when it gets stuck without improvemnts for too long , it improves solution by 20% without needing more time or steps  ."
   ]
  },
  {
   "cell_type": "code",
   "execution_count": 143,
   "metadata": {},
   "outputs": [],
   "source": [
    "\n",
    "def tweak6(solution : np.array)-> np.array:\n",
    "\n",
    "    new_solution = solution.copy()\n",
    " \n",
    "    index_true=np.where(new_solution==True)[0]\n",
    "\n",
    "    size_change=len(index_true)*70//100\n",
    "    rints1 = rng.choice(index_true, size=size_change, replace=False)\n",
    "  \n",
    "    index_true=np.where(new_solution==False)[0]\n",
    "   \n",
    "    size_change=len(index_true)*20//100\n",
    "    rints = rng.choice(index_true, size=size_change, replace=False)\n",
    "   \n",
    "    new_solution[rints] = True\n",
    "    \n",
    "    new_solution[rints1] = False\n",
    "      \n",
    "\n",
    "    return new_solution"
   ]
  },
  {
   "cell_type": "code",
   "execution_count": 157,
   "metadata": {},
   "outputs": [
    {
     "data": {
      "application/vnd.jupyter.widget-view+json": {
       "model_id": "7ff9fd8125904378a38392c04722133c",
       "version_major": 2,
       "version_minor": 0
      },
      "text/plain": [
       "  0%|          | 0/5 [00:00<?, ?it/s]"
      ]
     },
     "metadata": {},
     "output_type": "display_data"
    },
    {
     "name": "stderr",
     "output_type": "stream",
     "text": [
      "ic| num_true: 1000\n",
      "ic| num_true: 800\n",
      "ic| num_true: 600\n",
      "ic| num_true: 400\n",
      "ic| num_true: 200\n",
      "ic| costofinale: np.float64(128409.27194119664)\n",
      "    valid(defsol): np.True_\n",
      "ic| history.index(defit[1]): 416\n"
     ]
    },
    {
     "data": {
      "image/png": "[encoded data removed]",
      "text/plain": [
       "<Figure size 1400x800 with 1 Axes>"
      ]
     },
     "metadata": {},
     "output_type": "display_data"
    }
   ],
   "source": [
    "current_solution = solution[:]\n",
    "\n",
    "max_steps=UNIVERSE_SIZE//10  # no significant improvement in increasing \n",
    "\n",
    "\n",
    "n_restart=5 # slightly improves results\n",
    "\n",
    "\n",
    "history = []\n",
    "dim_step_out=100\n",
    "\n",
    "for nres in tqdm(range(n_restart)):\n",
    "    i=0\n",
    "    num_true=int((100-(nres)*(100/n_restart))*NUM_SETS/100)\n",
    "    \n",
    "    #ic(num_true)\n",
    "    current_solution = np.zeros(NUM_SETS, dtype=bool)  # Initialize with all False\n",
    "    true_indices = rng.choice(NUM_SETS, num_true, replace=False)  # Randomly pick indices to set to True\n",
    "    current_solution[true_indices] = True  # Set those indices to True\n",
    "\n",
    "    current_fit=fitness2(current_solution)\n",
    "    if(nres==0):  #the first solution is always right because it's all true\n",
    "        defsol=current_solution[:]\n",
    "        defit=fitness2(defsol)\n",
    "        history.append(fitness2(defsol)[1])\n",
    "\n",
    "\n",
    "\n",
    "    for step in range(max_steps):\n",
    "        i+=1  #counts steps without improvements \n",
    "\n",
    "        \n",
    "        \n",
    "        if(i%(3*max_steps//10)==0 ):  # if it's stuck for the 30% of steps , i try to use tweak 6 \n",
    "            solution = tweak6(solution)\n",
    "            i=0\n",
    "            current_solution=solution[:]\n",
    "            current_fit=fitness2(solution)\n",
    "        else:\n",
    "            \n",
    "            solution = tweak5(current_solution,step,max_steps)\n",
    "\n",
    "        sol_fit=fitness2(solution)\n",
    "\n",
    "        if sol_fit[0] and sol_fit[1]>current_fit[1] :  # if it's valid and it's better then the previus current solution , update teh current solution\n",
    "            history.append(sol_fit[1])\n",
    "            current_solution = solution\n",
    "            current_fit=sol_fit\n",
    "            i=0\n",
    "            if sol_fit[1]>defit[1]:  #if it's better then the previus global solution  update global solution with the solution \n",
    "                defsol = solution[:]\n",
    "                defit=sol_fit\n",
    "    \n",
    "costofinale=cost(defsol)\n",
    "ic(costofinale,valid(defsol))\n",
    "\n",
    "ic(history.index(defit[1]))\n",
    "\n",
    "\n",
    "\n",
    "plt.figure(figsize=(14, 8))\n",
    "plt.plot(\n",
    "    range(len(history)),\n",
    "    list(accumulate(history, max)),\n",
    "    color=\"red\",\n",
    ")\n",
    "_ = plt.scatter(range(len(history)), history, marker=\".\")\n",
    "\n",
    "\n",
    "with open('log.txt', 'a') as file:   # log to track how well the algorithm performs\n",
    "    \n",
    "    file.write(f\"{UNIVERSE_SIZE} , {NUM_SETS} , {DENSITY} , {max_steps} , {n_restart} , {costofinale} \\n\")\n",
    "\n",
    "#plt.ylim(71443,2414430)"
   ]
  },
  {
   "cell_type": "markdown",
   "metadata": {},
   "source": []
  }
 ],
 "metadata": {
  "kernelspec": {
   "display_name": "ci-8cno21nT-py3.12",
   "language": "python",
   "name": "python3"
  },
  "language_info": {
   "codemirror_mode": {
    "name": "ipython",
    "version": 3
   },
   "file_extension": ".py",
   "mimetype": "text/x-python",
   "name": "python",
   "nbconvert_exporter": "python",
   "pygments_lexer": "ipython3",
   "version": "3.12.3"
  }
 },
 "nbformat": 4,
 "nbformat_minor": 4
}
