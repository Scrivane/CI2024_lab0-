{
 "cells": [
  {
   "cell_type": "markdown",
   "metadata": {},
   "source": [
    "Copyright **`(c)`** 2024 Giovanni Squillero `<giovanni.squillero@polito.it>`  \n",
    "[`https://github.com/squillero/computational-intelligence`](https://github.com/squillero/computational-intelligence)  \n",
    "Free for personal or classroom use; see [`LICENSE.md`](https://github.com/squillero/computational-intelligence/blob/master/LICENSE.md) for details.  "
   ]
  },
  {
   "cell_type": "markdown",
   "metadata": {},
   "source": [
    "# Set Cover problem\n",
    "\n",
    "See: https://en.wikipedia.org/wiki/Set_cover_problem"
   ]
  },
  {
   "cell_type": "code",
   "execution_count": 759,
   "metadata": {},
   "outputs": [],
   "source": [
    "from random import random, seed\n",
    "from itertools import product\n",
    "import numpy as np\n",
    "import timeit\n",
    "from typing import Tuple\n",
    "from icecream import ic\n",
    "from tqdm.auto import tqdm\n",
    "from matplotlib import pyplot as plt\n",
    "from itertools import accumulate\n",
    "from itertools import compress"
   ]
  },
  {
   "cell_type": "markdown",
   "metadata": {},
   "source": [
    "## Reproducible Initialization\n",
    "\n",
    "If you want to get reproducible results, use `rng` (and restart the kernel); for non-reproducible ones, use `np.random`."
   ]
  },
  {
   "cell_type": "code",
   "execution_count": 760,
   "metadata": {},
   "outputs": [],
   "source": [
    "UNIVERSE_SIZE = 100_000\n",
    "NUM_SETS = 10_000\n",
    "\n",
    "DENSITY = 0.3\n",
    "\n",
    "rng = np.random.Generator(np.random.PCG64([UNIVERSE_SIZE, NUM_SETS, int(10_000 * DENSITY)]))"
   ]
  },
  {
   "cell_type": "code",
   "execution_count": 761,
   "metadata": {},
   "outputs": [],
   "source": [
    "# DON'T EDIT THESE LINES!\n",
    "\n",
    "SETS = np.random.random((NUM_SETS, UNIVERSE_SIZE)) < DENSITY\n",
    "for s in range(UNIVERSE_SIZE):\n",
    "    if not np.any(SETS[:, s]):\n",
    "        SETS[np.random.randint(NUM_SETS), s] = True\n",
    "COSTS = np.pow(SETS.sum(axis=1), 1.1)\n"
   ]
  },
  {
   "cell_type": "code",
   "execution_count": 762,
   "metadata": {},
   "outputs": [],
   "source": [
    "mincost=min(COSTS)"
   ]
  },
  {
   "cell_type": "markdown",
   "metadata": {},
   "source": [
    "## Helper Functions"
   ]
  },
  {
   "cell_type": "code",
   "execution_count": 763,
   "metadata": {},
   "outputs": [],
   "source": [
    "def valid(solution):\n",
    "    \"\"\"Checks wether solution is valid (ie. covers all universe)\"\"\"\n",
    "    return np.all(np.logical_or.reduce(SETS[solution]))\n",
    "\n",
    "\n",
    "def valid2(solution):\n",
    "    \"\"\"Checks whether solution is valid (i.e., covers all universe)\"\"\"\n",
    "    # Logical OR over selected sets\n",
    "    covered_universe = np.zeros(SETS.shape[1], dtype=bool)\n",
    "    \n",
    "    for i in np.where(solution)[0]:  # Only loop through 'True' solutions\n",
    "        covered_universe |= SETS[i]\n",
    "        # Exit early if the universe is fully covered\n",
    "        if np.all(covered_universe):\n",
    "            return True\n",
    "    \n",
    "    # Check if universe is fully covered at the end\n",
    "    return np.all(covered_universe)\n",
    "\n",
    "def cost(solution):\n",
    "    \"\"\"Returns the cost of a solution (to be minimized)\"\"\"\n",
    "    return COSTS[solution].sum()\n",
    "\n"
   ]
  },
  {
   "cell_type": "code",
   "execution_count": 764,
   "metadata": {},
   "outputs": [
    {
     "data": {
      "text/plain": [
       "10000"
      ]
     },
     "execution_count": 764,
     "metadata": {},
     "output_type": "execute_result"
    }
   ],
   "source": [
    "len(SETS)"
   ]
  },
  {
   "cell_type": "markdown",
   "metadata": {},
   "source": [
    "## Have Fun!"
   ]
  },
  {
   "cell_type": "code",
   "execution_count": 765,
   "metadata": {},
   "outputs": [
    {
     "name": "stderr",
     "output_type": "stream",
     "text": [
      "ic| t1: 0.002218935998826055\n"
     ]
    },
    {
     "data": {
      "text/plain": [
       "0.002218935998826055"
      ]
     },
     "execution_count": 765,
     "metadata": {},
     "output_type": "execute_result"
    }
   ],
   "source": [
    "# A dumb solution of \"all\" sets\n",
    "# A dumb solution of \"all\" sets\n",
    "solution = np.full(NUM_SETS, True)\n",
    "\n",
    "t1 = timeit.timeit(lambda: cost(solution), number=100)\n",
    "ic(t1)\n"
   ]
  },
  {
   "cell_type": "code",
   "execution_count": 766,
   "metadata": {},
   "outputs": [
    {
     "name": "stderr",
     "output_type": "stream",
     "text": [
      "ic| solution: array([ True, False,  True, ...,  True,  True, False])\n",
      "    len(solution): 10000\n"
     ]
    },
    {
     "data": {
      "text/plain": [
       "(np.True_, np.float64(423499134.2150534))"
      ]
     },
     "execution_count": 766,
     "metadata": {},
     "output_type": "execute_result"
    }
   ],
   "source": [
    "# A random solution with random 50% of the sets\n",
    "solution = rng.random(NUM_SETS) < .5\n",
    "ic(solution,len(solution))\n",
    "valid(solution), cost(solution)"
   ]
  },
  {
   "cell_type": "code",
   "execution_count": 767,
   "metadata": {},
   "outputs": [],
   "source": [
    "def fitness(solution : np.array)-> int:\n",
    "    costo=-cost(solution)\n",
    "    #if valid2(solution):\n",
    "       \n",
    "       #costo=costo+50000\n",
    "        #ic(pos)\n",
    "        \n",
    "    \n",
    "    return costo\n",
    "\n",
    "def fitness2(solution : np.array)-> Tuple[bool,int]:\n",
    "    costo=-cost(solution)\n",
    "    costo=-(len(np.where(solution == True)[0]) *100)\n",
    "    validity=False\n",
    "    if valid2(solution):\n",
    "       \n",
    "       \n",
    "       validity=True\n",
    "        #ic(pos)\n",
    "        \n",
    "    \n",
    "    return (validity,costo)"
   ]
  },
  {
   "cell_type": "code",
   "execution_count": 768,
   "metadata": {},
   "outputs": [],
   "source": [
    "\n",
    "\n",
    "\n",
    "def tweak(solution : np.array)-> np.array:\n",
    "    new_solution = solution.copy()\n",
    "    pos = rng.integers(0,NUM_SETS)\n",
    "    \n",
    "    \n",
    "    new_solution[pos] = not new_solution[pos]\n",
    "    return new_solution"
   ]
  },
  {
   "cell_type": "code",
   "execution_count": 769,
   "metadata": {},
   "outputs": [],
   "source": [
    "def tweak2(solution : np.array)-> np.array:   #non funziona\n",
    "    n_tweaks=5\n",
    "    new_solution = solution.copy()\n",
    "    pos = rng.integers(0,NUM_SETS)\n",
    "    current_solution=solution.copy()\n",
    "    current_fit=fitness(solution)\n",
    "    \n",
    "\n",
    "    for step in range(n_tweaks):\n",
    "        new_solution[pos] = not new_solution[pos]\n",
    "        sol_fit=fitness(solution)\n",
    "       \n",
    "        if sol_fit>current_fit:\n",
    "            current_solution = new_solution[:]\n",
    "            current_fit=sol_fit\n",
    "        \n",
    "        new_solution[pos] = not new_solution[pos]\n",
    "    \n",
    "    \n",
    "    \n",
    "    return current_solution"
   ]
  },
  {
   "cell_type": "code",
   "execution_count": 770,
   "metadata": {},
   "outputs": [],
   "source": [
    "def tweak3(solution : np.array,step: int,max_step :int)-> np.array:\n",
    "    #size_change=1\n",
    "    #size_change=1+(2*(max_step -step))//max_step\n",
    "    #size_change=1+((max_step -step))//max_step\n",
    "    size_change=(20*(max_step -step))//max_step\n",
    "    \n",
    "    new_solution = solution.copy()\n",
    "    \n",
    "    rints = rng.integers(low=0, high=NUM_SETS, size=size_change)\n",
    "    for el in rints:\n",
    "        new_solution[el] = not new_solution[el]\n",
    "\n",
    "    \n",
    "    \n",
    "    \n",
    "    \n",
    "    return new_solution\n",
    "\n",
    "\n",
    "\n",
    "\n",
    "\n",
    "def tweak4(solution : np.array,step: int,max_step :int,)-> np.array:\n",
    "    #size_change=1\n",
    "    #size_change=1+(2*(max_step -step))//max_step\n",
    "    #size_change=1+((max_step -step))//max_step\n",
    "    size_change=(20*(max_step -step))//max_step\n",
    "    \n",
    "    new_solution = solution.copy()\n",
    "    \n",
    "    if valid2(new_solution):\n",
    "        if ((max_step -step)/max_step)<0.05 :\n",
    "            \n",
    "            rints = rng.integers(low=0, high=NUM_SETS, size=size_change)\n",
    "            for el in rints:\n",
    "                    new_solution[el] = not new_solution[el]\n",
    "        \n",
    "\n",
    "        else:\n",
    "            index_true= np.where(new_solution == True)[0]\n",
    "            rints = rng.choice(index_true, size=size_change, replace=False)\n",
    "            for el in rints:\n",
    "                new_solution[el] = False\n",
    "    \n",
    "    else:\n",
    "         rints = rng.integers(low=0, high=NUM_SETS, size=size_change)\n",
    "         for el in rints:\n",
    "                new_solution[el] = not new_solution[el]\n",
    "\n",
    "\n",
    "    \n",
    "    \n",
    "    \n",
    "    \n",
    "    return new_solution\n",
    "\n",
    "\n",
    "\n",
    "\n",
    "\n",
    "def tweak5(solution : np.array,step: int,max_step :int,)-> np.array:\n",
    "    #size_change=1\n",
    "    #size_change=1+(2*(max_step -step))//max_step\n",
    "    #size_change=1+((max_step -step))//max_step\n",
    "    size_change=(20*(max_step -step))//max_step\n",
    "    \n",
    "    new_solution = solution.copy()\n",
    "    \n",
    "    if valid2(new_solution):\n",
    "        \n",
    "            index_true=np.where(new_solution==True)[0]\n",
    "            if( size_change>len(index_true)):\n",
    "                size_change=len(index_true)*20//100\n",
    "            rints = rng.choice(index_true, size=size_change, replace=False)\n",
    "            for el in rints:\n",
    "                new_solution[el] = False\n",
    "    \n",
    "    else:\n",
    "         \n",
    "        #if ((max_step -step)/max_step)<0.05:\n",
    "            index_true=np.where(new_solution==False)[0]\n",
    "            if( size_change>len(index_true)):\n",
    "                size_change=len(index_true)*20//100\n",
    "            rints = rng.choice(index_true, size=size_change, replace=False)\n",
    "            for el in rints:\n",
    "                new_solution[el] = True\n",
    "               \n",
    "       # else:\n",
    "         #   rints = rng.integers(low=0, high=NUM_SETS, size=size_change)\n",
    "        #    for el in rints:\n",
    "        #            new_solution[el] = not new_solution[el]\n",
    "\n",
    "    return new_solution\n",
    "\n",
    "\n",
    "\n",
    "\n",
    "\n",
    "\n",
    "def tweak6(solution : np.array,size_change: int)-> np.array:\n",
    "    #size_change=1\n",
    "    #size_change=1+(2*(max_step -step))//max_step\n",
    "    #size_change=1+((max_step -step))//max_step\n",
    "   \n",
    "    perc_change=33\n",
    "    new_solution = solution.copy()\n",
    "\n",
    "    \n",
    "    \n",
    "        \n",
    "    index_true=np.where(new_solution==True)[0]\n",
    "    #if( size_change>len(index_true)):\n",
    "    size_change=len(index_true)*70//100\n",
    "    rints1 = rng.choice(index_true, size=size_change, replace=False)\n",
    "    \n",
    "    \n",
    "   \n",
    "         \n",
    "        #if ((max_step -step)/max_step)<0.05:\n",
    "    index_true=np.where(new_solution==False)[0]\n",
    "    #if( size_change>len(index_true)):\n",
    "    size_change=len(index_true)*20//100\n",
    "    rints = rng.choice(index_true, size=size_change, replace=False)\n",
    "    for el in rints:\n",
    "        new_solution[el] = True\n",
    "    \n",
    "    for el in rints1:\n",
    "        new_solution[el] = False\n",
    "               \n",
    "       # else:\n",
    "         #   rints = rng.integers(low=0, high=NUM_SETS, size=size_change)\n",
    "        #    for el in rints:\n",
    "        #            new_solution[el] = not new_solution[el]\n",
    "\n",
    "    return new_solution"
   ]
  },
  {
   "cell_type": "code",
   "execution_count": 771,
   "metadata": {},
   "outputs": [
    {
     "name": "stderr",
     "output_type": "stream",
     "text": [
      "ic| current_solution: array([ True, False,  True, ...,  True,  True, False])\n"
     ]
    },
    {
     "data": {
      "application/vnd.jupyter.widget-view+json": {
       "model_id": "7e8b2613199c4ed7886a841d1c47315c",
       "version_major": 2,
       "version_minor": 0
      },
      "text/plain": [
       "  0%|          | 0/1 [00:00<?, ?it/s]"
      ]
     },
     "metadata": {},
     "output_type": "display_data"
    },
    {
     "name": "stderr",
     "output_type": "stream",
     "text": [
      "ic| costofinale: np.float64(2267595.400625023)\n",
      "    valid(defsol): np.True_\n",
      "ic| history.index(costofinale): 20527\n",
      "ic| history.index(cost(defsol)): 20527, nrun: 1\n",
      "ic| index_true: array([ 376,  410,  826, 1563, 1984, 2271, 2593, 2845, 2990, 3030, 3322,\n",
      "                       3805, 3992, 4232, 4411, 5246, 5502, 5746, 6185, 6242, 6755, 6825,\n",
      "                       7658, 7804, 8788, 9627, 9745])\n"
     ]
    },
    {
     "data": {
      "text/plain": [
       "(71443.0, 2414430.0)"
      ]
     },
     "execution_count": 771,
     "metadata": {},
     "output_type": "execute_result"
    },
    {
     "data": {
      "image/png": "[encoded data removed]",
      "text/plain": [
       "<Figure size 1400x800 with 1 Axes>"
      ]
     },
     "metadata": {},
     "output_type": "display_data"
    }
   ],
   "source": [
    "current_solution = solution[:]\n",
    "\n",
    "max_steps=536000\n",
    "n_restart=1\n",
    "ic( current_solution)\n",
    "#while  valid(current_solution)==False or steps<max_steps:\n",
    "\n",
    "#current_fit=fitness(current_solution)\n",
    "#tcost=timeit.timeit(lambda: cost(current_solution), number=100000)\n",
    "#tfittweak=timeit.timeit(lambda: tweak(current_solution), number=100000)\n",
    "\n",
    "#tevalu=timeit.timeit(lambda: fitness(current_solution), number=10)\n",
    "#tevalid=timeit.timeit(lambda: valid(current_solution), number=1000)\n",
    "#tevalid2=timeit.timeit(lambda: valid2(current_solution), number=1000)\n",
    "#ic(tcost,tfittweak,tevalu,tevalid,tevalid2)\n",
    "\n",
    "history = []\n",
    "dim_step_out=100\n",
    "\n",
    "for nres in tqdm(range(n_restart)):\n",
    "    i=0\n",
    "    current_solution = rng.random(NUM_SETS) < ((1+nres)*(100/n_restart))\n",
    "    current_fit=fitness2(current_solution)\n",
    "    if(nres==0):\n",
    "        defsol=current_solution[:]\n",
    "        defit=fitness2(defsol)\n",
    "        history.append(cost(solution))\n",
    "\n",
    "\n",
    "\n",
    "    for step in range(max_steps):\n",
    "        i+=1\n",
    "\n",
    "        \n",
    "        \n",
    "        if(i%3300==0):\n",
    "            #for  j in tqdm(range(10)):\n",
    "            solution = tweak6(solution,dim_step_out)\n",
    "            \n",
    "            i=0\n",
    "            current_solution=solution[:]\n",
    "            current_fit=fitness2(solution)\n",
    "        else:\n",
    "            solution = tweak5(current_solution,step,max_steps)\n",
    "        #ic( current_solution,solution)\n",
    "        sol_fit=fitness2(solution)\n",
    "\n",
    "        \n",
    "        history.append(cost(solution))\n",
    "        #if sol_fit>current_fit:\n",
    "        #    print(\"Arrays are good\")\n",
    "        #else:\n",
    "        #        print(\"Arrays are bad\")\n",
    "    \n",
    "        '''if sol_fit>current_fit :\n",
    "            current_solution = solution\n",
    "            current_fit=sol_fit\n",
    "            i=0\n",
    "            if sol_fit>defit:\n",
    "                defsol = solution[:]\n",
    "                defit=sol_fit\n",
    "        '''\n",
    "        if sol_fit[0] and sol_fit[1]>current_fit[1] :\n",
    "            current_solution = solution\n",
    "            current_fit=sol_fit\n",
    "            i=0\n",
    "            if sol_fit[0] and sol_fit[1]>defit[1]:\n",
    "                defsol = solution[:]\n",
    "                defit=sol_fit\n",
    "               \n",
    "        \n",
    "\n",
    "        #if(i>=max_steps/10):\n",
    "        #    break\n",
    "\n",
    "            #ic(step, current_solution)\n",
    " \n",
    "costofinale=cost(defsol)\n",
    "ic(costofinale,valid(defsol))\n",
    "\n",
    "ic(history.index(costofinale))\n",
    "nrun=history.index(cost(defsol))//max_steps +1\n",
    "ic(history.index(cost(defsol)),nrun )\n",
    "\n",
    "index_true=len(np.where(defsol==True)[0])\n",
    "ic(index_true)\n",
    "plt.figure(figsize=(14, 8))\n",
    "plt.plot(\n",
    "    range(len(history)),\n",
    "    list(accumulate(history, max)),\n",
    "    color=\"red\",\n",
    ")\n",
    "_ = plt.scatter(range(len(history)), history, marker=\".\")\n",
    "\n",
    "\n",
    "plt.ylim(71443,2414430)"
   ]
  }
 ],
 "metadata": {
  "kernelspec": {
   "display_name": "Python 3 (ipykernel)",
   "language": "python",
   "name": "python3"
  },
  "language_info": {
   "codemirror_mode": {
    "name": "ipython",
    "version": 3
   },
   "file_extension": ".py",
   "mimetype": "text/x-python",
   "name": "python",
   "nbconvert_exporter": "python",
   "pygments_lexer": "ipython3",
   "version": "3.12.3"
  }
 },
 "nbformat": 4,
 "nbformat_minor": 4
}
